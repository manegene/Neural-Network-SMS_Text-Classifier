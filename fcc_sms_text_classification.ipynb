{
  "cells": [
    {
      "cell_type": "markdown",
      "metadata": {
        "id": "view-in-github",
        "colab_type": "text"
      },
      "source": [
        "<a href=\"https://colab.research.google.com/github/manegene/Neural-Network-SMS_Text-Classifier/blob/main/fcc_sms_text_classification.ipynb\" target=\"_parent\"><img src=\"https://colab.research.google.com/assets/colab-badge.svg\" alt=\"Open In Colab\"/></a>"
      ]
    },
    {
      "cell_type": "code",
      "execution_count": 1,
      "metadata": {
        "id": "8RZOuS9LWQvv",
        "outputId": "0fef5666-23c0-445a-a2c6-0f53aab69056",
        "colab": {
          "base_uri": "https://localhost:8080/"
        }
      },
      "outputs": [
        {
          "output_type": "stream",
          "name": "stdout",
          "text": [
            "Collecting tf-nightly\n",
            "  Downloading tf_nightly-2.20.0.dev20250317-cp311-cp311-manylinux_2_17_x86_64.manylinux2014_x86_64.whl.metadata (4.3 kB)\n",
            "Requirement already satisfied: absl-py>=1.0.0 in /usr/local/lib/python3.11/dist-packages (from tf-nightly) (1.4.0)\n",
            "Requirement already satisfied: astunparse>=1.6.0 in /usr/local/lib/python3.11/dist-packages (from tf-nightly) (1.6.3)\n",
            "Requirement already satisfied: flatbuffers>=24.3.25 in /usr/local/lib/python3.11/dist-packages (from tf-nightly) (25.2.10)\n",
            "Requirement already satisfied: gast!=0.5.0,!=0.5.1,!=0.5.2,>=0.2.1 in /usr/local/lib/python3.11/dist-packages (from tf-nightly) (0.6.0)\n",
            "Requirement already satisfied: google-pasta>=0.1.1 in /usr/local/lib/python3.11/dist-packages (from tf-nightly) (0.2.0)\n",
            "Requirement already satisfied: libclang>=13.0.0 in /usr/local/lib/python3.11/dist-packages (from tf-nightly) (18.1.1)\n",
            "Requirement already satisfied: opt-einsum>=2.3.2 in /usr/local/lib/python3.11/dist-packages (from tf-nightly) (3.4.0)\n",
            "Requirement already satisfied: packaging in /usr/local/lib/python3.11/dist-packages (from tf-nightly) (24.2)\n",
            "Requirement already satisfied: protobuf<6.0.0dev,>=4.21.6 in /usr/local/lib/python3.11/dist-packages (from tf-nightly) (4.25.6)\n",
            "Requirement already satisfied: requests<3,>=2.21.0 in /usr/local/lib/python3.11/dist-packages (from tf-nightly) (2.32.3)\n",
            "Requirement already satisfied: setuptools in /usr/local/lib/python3.11/dist-packages (from tf-nightly) (75.1.0)\n",
            "Requirement already satisfied: six>=1.12.0 in /usr/local/lib/python3.11/dist-packages (from tf-nightly) (1.17.0)\n",
            "Requirement already satisfied: termcolor>=1.1.0 in /usr/local/lib/python3.11/dist-packages (from tf-nightly) (2.5.0)\n",
            "Requirement already satisfied: typing-extensions>=3.6.6 in /usr/local/lib/python3.11/dist-packages (from tf-nightly) (4.12.2)\n",
            "Requirement already satisfied: wrapt>=1.11.0 in /usr/local/lib/python3.11/dist-packages (from tf-nightly) (1.17.2)\n",
            "Requirement already satisfied: grpcio<2.0,>=1.24.3 in /usr/local/lib/python3.11/dist-packages (from tf-nightly) (1.71.0)\n",
            "Collecting tb-nightly~=2.19.0.a (from tf-nightly)\n",
            "  Downloading tb_nightly-2.19.0a20250218-py3-none-any.whl.metadata (1.8 kB)\n",
            "Collecting keras-nightly>=3.6.0.dev (from tf-nightly)\n",
            "  Downloading keras_nightly-3.9.0.dev2025031803-py3-none-any.whl.metadata (6.1 kB)\n",
            "Requirement already satisfied: numpy<2.2.0,>=1.26.0 in /usr/local/lib/python3.11/dist-packages (from tf-nightly) (2.0.2)\n",
            "Requirement already satisfied: h5py>=3.11.0 in /usr/local/lib/python3.11/dist-packages (from tf-nightly) (3.12.1)\n",
            "Collecting ml-dtypes<1.0.0,>=0.5.1 (from tf-nightly)\n",
            "  Downloading ml_dtypes-0.5.1-cp311-cp311-manylinux_2_17_x86_64.manylinux2014_x86_64.whl.metadata (21 kB)\n",
            "Requirement already satisfied: wheel<1.0,>=0.23.0 in /usr/local/lib/python3.11/dist-packages (from astunparse>=1.6.0->tf-nightly) (0.45.1)\n",
            "Requirement already satisfied: rich in /usr/local/lib/python3.11/dist-packages (from keras-nightly>=3.6.0.dev->tf-nightly) (13.9.4)\n",
            "Requirement already satisfied: namex in /usr/local/lib/python3.11/dist-packages (from keras-nightly>=3.6.0.dev->tf-nightly) (0.0.8)\n",
            "Requirement already satisfied: optree in /usr/local/lib/python3.11/dist-packages (from keras-nightly>=3.6.0.dev->tf-nightly) (0.14.1)\n",
            "Requirement already satisfied: charset-normalizer<4,>=2 in /usr/local/lib/python3.11/dist-packages (from requests<3,>=2.21.0->tf-nightly) (3.4.1)\n",
            "Requirement already satisfied: idna<4,>=2.5 in /usr/local/lib/python3.11/dist-packages (from requests<3,>=2.21.0->tf-nightly) (3.10)\n",
            "Requirement already satisfied: urllib3<3,>=1.21.1 in /usr/local/lib/python3.11/dist-packages (from requests<3,>=2.21.0->tf-nightly) (2.3.0)\n",
            "Requirement already satisfied: certifi>=2017.4.17 in /usr/local/lib/python3.11/dist-packages (from requests<3,>=2.21.0->tf-nightly) (2025.1.31)\n",
            "Requirement already satisfied: markdown>=2.6.8 in /usr/local/lib/python3.11/dist-packages (from tb-nightly~=2.19.0.a->tf-nightly) (3.7)\n",
            "Requirement already satisfied: tensorboard-data-server<0.8.0,>=0.7.0 in /usr/local/lib/python3.11/dist-packages (from tb-nightly~=2.19.0.a->tf-nightly) (0.7.2)\n",
            "Requirement already satisfied: werkzeug>=1.0.1 in /usr/local/lib/python3.11/dist-packages (from tb-nightly~=2.19.0.a->tf-nightly) (3.1.3)\n",
            "Requirement already satisfied: MarkupSafe>=2.1.1 in /usr/local/lib/python3.11/dist-packages (from werkzeug>=1.0.1->tb-nightly~=2.19.0.a->tf-nightly) (3.0.2)\n",
            "Requirement already satisfied: markdown-it-py>=2.2.0 in /usr/local/lib/python3.11/dist-packages (from rich->keras-nightly>=3.6.0.dev->tf-nightly) (3.0.0)\n",
            "Requirement already satisfied: pygments<3.0.0,>=2.13.0 in /usr/local/lib/python3.11/dist-packages (from rich->keras-nightly>=3.6.0.dev->tf-nightly) (2.18.0)\n",
            "Requirement already satisfied: mdurl~=0.1 in /usr/local/lib/python3.11/dist-packages (from markdown-it-py>=2.2.0->rich->keras-nightly>=3.6.0.dev->tf-nightly) (0.1.2)\n",
            "Downloading tf_nightly-2.20.0.dev20250317-cp311-cp311-manylinux_2_17_x86_64.manylinux2014_x86_64.whl (654.8 MB)\n",
            "\u001b[2K   \u001b[90m━━━━━━━━━━━━━━━━━━━━━━━━━━━━━━━━━━━━━━━━\u001b[0m \u001b[32m654.8/654.8 MB\u001b[0m \u001b[31m2.6 MB/s\u001b[0m eta \u001b[36m0:00:00\u001b[0m\n",
            "\u001b[?25hDownloading keras_nightly-3.9.0.dev2025031803-py3-none-any.whl (1.4 MB)\n",
            "\u001b[2K   \u001b[90m━━━━━━━━━━━━━━━━━━━━━━━━━━━━━━━━━━━━━━━━\u001b[0m \u001b[32m1.4/1.4 MB\u001b[0m \u001b[31m24.9 MB/s\u001b[0m eta \u001b[36m0:00:00\u001b[0m\n",
            "\u001b[?25hDownloading ml_dtypes-0.5.1-cp311-cp311-manylinux_2_17_x86_64.manylinux2014_x86_64.whl (4.7 MB)\n",
            "\u001b[2K   \u001b[90m━━━━━━━━━━━━━━━━━━━━━━━━━━━━━━━━━━━━━━━━\u001b[0m \u001b[32m4.7/4.7 MB\u001b[0m \u001b[31m39.7 MB/s\u001b[0m eta \u001b[36m0:00:00\u001b[0m\n",
            "\u001b[?25hDownloading tb_nightly-2.19.0a20250218-py3-none-any.whl (5.5 MB)\n",
            "\u001b[2K   \u001b[90m━━━━━━━━━━━━━━━━━━━━━━━━━━━━━━━━━━━━━━━━\u001b[0m \u001b[32m5.5/5.5 MB\u001b[0m \u001b[31m59.9 MB/s\u001b[0m eta \u001b[36m0:00:00\u001b[0m\n",
            "\u001b[?25hInstalling collected packages: ml-dtypes, tb-nightly, keras-nightly, tf-nightly\n",
            "  Attempting uninstall: ml-dtypes\n",
            "    Found existing installation: ml-dtypes 0.4.1\n",
            "    Uninstalling ml-dtypes-0.4.1:\n",
            "      Successfully uninstalled ml-dtypes-0.4.1\n",
            "\u001b[31mERROR: pip's dependency resolver does not currently take into account all the packages that are installed. This behaviour is the source of the following dependency conflicts.\n",
            "tensorflow 2.18.0 requires ml-dtypes<0.5.0,>=0.4.0, but you have ml-dtypes 0.5.1 which is incompatible.\u001b[0m\u001b[31m\n",
            "\u001b[0mSuccessfully installed keras-nightly-3.9.0.dev2025031803 ml-dtypes-0.5.1 tb-nightly-2.19.0a20250218 tf-nightly-2.20.0.dev20250317\n",
            "Requirement already satisfied: tensorflow-datasets in /usr/local/lib/python3.11/dist-packages (4.9.8)\n",
            "Requirement already satisfied: absl-py in /usr/local/lib/python3.11/dist-packages (from tensorflow-datasets) (1.4.0)\n",
            "Requirement already satisfied: array_record>=0.5.0 in /usr/local/lib/python3.11/dist-packages (from tensorflow-datasets) (0.7.1)\n",
            "Requirement already satisfied: dm-tree in /usr/local/lib/python3.11/dist-packages (from tensorflow-datasets) (0.1.9)\n",
            "Requirement already satisfied: etils>=1.9.1 in /usr/local/lib/python3.11/dist-packages (from etils[edc,enp,epath,epy,etree]>=1.9.1; python_version >= \"3.11\"->tensorflow-datasets) (1.12.2)\n",
            "Requirement already satisfied: immutabledict in /usr/local/lib/python3.11/dist-packages (from tensorflow-datasets) (4.2.1)\n",
            "Requirement already satisfied: numpy in /usr/local/lib/python3.11/dist-packages (from tensorflow-datasets) (2.0.2)\n",
            "Requirement already satisfied: promise in /usr/local/lib/python3.11/dist-packages (from tensorflow-datasets) (2.3)\n",
            "Requirement already satisfied: protobuf>=3.20 in /usr/local/lib/python3.11/dist-packages (from tensorflow-datasets) (4.25.6)\n",
            "Requirement already satisfied: psutil in /usr/local/lib/python3.11/dist-packages (from tensorflow-datasets) (5.9.5)\n",
            "Requirement already satisfied: pyarrow in /usr/local/lib/python3.11/dist-packages (from tensorflow-datasets) (18.1.0)\n",
            "Requirement already satisfied: requests>=2.19.0 in /usr/local/lib/python3.11/dist-packages (from tensorflow-datasets) (2.32.3)\n",
            "Requirement already satisfied: simple_parsing in /usr/local/lib/python3.11/dist-packages (from tensorflow-datasets) (0.1.7)\n",
            "Requirement already satisfied: tensorflow-metadata in /usr/local/lib/python3.11/dist-packages (from tensorflow-datasets) (1.16.1)\n",
            "Requirement already satisfied: termcolor in /usr/local/lib/python3.11/dist-packages (from tensorflow-datasets) (2.5.0)\n",
            "Requirement already satisfied: toml in /usr/local/lib/python3.11/dist-packages (from tensorflow-datasets) (0.10.2)\n",
            "Requirement already satisfied: tqdm in /usr/local/lib/python3.11/dist-packages (from tensorflow-datasets) (4.67.1)\n",
            "Requirement already satisfied: wrapt in /usr/local/lib/python3.11/dist-packages (from tensorflow-datasets) (1.17.2)\n",
            "Requirement already satisfied: einops in /usr/local/lib/python3.11/dist-packages (from etils[edc,enp,epath,epy,etree]>=1.9.1; python_version >= \"3.11\"->tensorflow-datasets) (0.8.1)\n",
            "Requirement already satisfied: fsspec in /usr/local/lib/python3.11/dist-packages (from etils[edc,enp,epath,epy,etree]>=1.9.1; python_version >= \"3.11\"->tensorflow-datasets) (2024.10.0)\n",
            "Requirement already satisfied: importlib_resources in /usr/local/lib/python3.11/dist-packages (from etils[edc,enp,epath,epy,etree]>=1.9.1; python_version >= \"3.11\"->tensorflow-datasets) (6.5.2)\n",
            "Requirement already satisfied: typing_extensions in /usr/local/lib/python3.11/dist-packages (from etils[edc,enp,epath,epy,etree]>=1.9.1; python_version >= \"3.11\"->tensorflow-datasets) (4.12.2)\n",
            "Requirement already satisfied: zipp in /usr/local/lib/python3.11/dist-packages (from etils[edc,enp,epath,epy,etree]>=1.9.1; python_version >= \"3.11\"->tensorflow-datasets) (3.21.0)\n",
            "Requirement already satisfied: charset-normalizer<4,>=2 in /usr/local/lib/python3.11/dist-packages (from requests>=2.19.0->tensorflow-datasets) (3.4.1)\n",
            "Requirement already satisfied: idna<4,>=2.5 in /usr/local/lib/python3.11/dist-packages (from requests>=2.19.0->tensorflow-datasets) (3.10)\n",
            "Requirement already satisfied: urllib3<3,>=1.21.1 in /usr/local/lib/python3.11/dist-packages (from requests>=2.19.0->tensorflow-datasets) (2.3.0)\n",
            "Requirement already satisfied: certifi>=2017.4.17 in /usr/local/lib/python3.11/dist-packages (from requests>=2.19.0->tensorflow-datasets) (2025.1.31)\n",
            "Requirement already satisfied: attrs>=18.2.0 in /usr/local/lib/python3.11/dist-packages (from dm-tree->tensorflow-datasets) (25.3.0)\n",
            "Requirement already satisfied: six in /usr/local/lib/python3.11/dist-packages (from promise->tensorflow-datasets) (1.17.0)\n",
            "Requirement already satisfied: docstring-parser<1.0,>=0.15 in /usr/local/lib/python3.11/dist-packages (from simple_parsing->tensorflow-datasets) (0.16)\n",
            "Requirement already satisfied: googleapis-common-protos<2,>=1.56.4 in /usr/local/lib/python3.11/dist-packages (from tensorflow-metadata->tensorflow-datasets) (1.69.1)\n",
            "2.20.0-dev20250317\n"
          ]
        }
      ],
      "source": [
        "# import libraries\n",
        "try:\n",
        "  # %tensorflow_version only exists in Colab.\n",
        "  !pip install tf-nightly\n",
        "except Exception:\n",
        "  pass\n",
        "import tensorflow as tf\n",
        "import pandas as pd\n",
        "from tensorflow import keras\n",
        "!pip install tensorflow-datasets\n",
        "import tensorflow_datasets as tfds\n",
        "import numpy as np\n",
        "import matplotlib.pyplot as plt\n",
        "\n",
        "print(tf.__version__)"
      ]
    },
    {
      "cell_type": "code",
      "execution_count": 2,
      "metadata": {
        "id": "lMHwYXHXCar3",
        "outputId": "f0beac84-28b3-4623-af9e-a9d3056d13fd",
        "colab": {
          "base_uri": "https://localhost:8080/"
        }
      },
      "outputs": [
        {
          "output_type": "stream",
          "name": "stdout",
          "text": [
            "--2025-03-18 13:16:31--  https://cdn.freecodecamp.org/project-data/sms/train-data.tsv\n",
            "Resolving cdn.freecodecamp.org (cdn.freecodecamp.org)... 172.67.70.149, 104.26.3.33, 104.26.2.33, ...\n",
            "Connecting to cdn.freecodecamp.org (cdn.freecodecamp.org)|172.67.70.149|:443... connected.\n",
            "HTTP request sent, awaiting response... 200 OK\n",
            "Length: 358233 (350K) [text/tab-separated-values]\n",
            "Saving to: ‘train-data.tsv’\n",
            "\n",
            "train-data.tsv      100%[===================>] 349.84K  --.-KB/s    in 0.08s   \n",
            "\n",
            "2025-03-18 13:16:32 (4.15 MB/s) - ‘train-data.tsv’ saved [358233/358233]\n",
            "\n",
            "--2025-03-18 13:16:32--  https://cdn.freecodecamp.org/project-data/sms/valid-data.tsv\n",
            "Resolving cdn.freecodecamp.org (cdn.freecodecamp.org)... 172.67.70.149, 104.26.3.33, 104.26.2.33, ...\n",
            "Connecting to cdn.freecodecamp.org (cdn.freecodecamp.org)|172.67.70.149|:443... connected.\n",
            "HTTP request sent, awaiting response... 200 OK\n",
            "Length: 118774 (116K) [text/tab-separated-values]\n",
            "Saving to: ‘valid-data.tsv’\n",
            "\n",
            "valid-data.tsv      100%[===================>] 115.99K  --.-KB/s    in 0.02s   \n",
            "\n",
            "2025-03-18 13:16:32 (4.75 MB/s) - ‘valid-data.tsv’ saved [118774/118774]\n",
            "\n"
          ]
        }
      ],
      "source": [
        "# get data files\n",
        "!wget https://cdn.freecodecamp.org/project-data/sms/train-data.tsv\n",
        "!wget https://cdn.freecodecamp.org/project-data/sms/valid-data.tsv\n",
        "\n",
        "train_file_path = \"train-data.tsv\"\n",
        "test_file_path = \"valid-data.tsv\""
      ]
    },
    {
      "cell_type": "code",
      "execution_count": 3,
      "metadata": {
        "id": "g_h508FEClxO"
      },
      "outputs": [],
      "source": [
        "# Load dataset\n",
        "train_df = pd.read_csv(train_file_path, sep='\\t', header=None, names=['label', 'message'])\n",
        "test_df = pd.read_csv(test_file_path, sep='\\t', header=None, names=['label', 'message'])"
      ]
    },
    {
      "cell_type": "code",
      "execution_count": 4,
      "metadata": {
        "id": "zOMKywn4zReN"
      },
      "outputs": [],
      "source": [
        "# Convert labels to numerical values (ham = 0, spam = 1)\n",
        "train_df['label'] = train_df['label'].map({'ham': 0, 'spam': 1})\n",
        "test_df['label'] = test_df['label'].map({'ham': 0, 'spam': 1})"
      ]
    },
    {
      "cell_type": "code",
      "source": [
        "# Tokenize and pad sequences\n",
        "max_words = 10000\n",
        "max_length = 100\n",
        "tokenizer = keras.preprocessing.text.Tokenizer(num_words=max_words, oov_token=\"<OOV>\")\n",
        "tokenizer.fit_on_texts(train_df['message'])\n",
        "\n",
        "train_sequences = tokenizer.texts_to_sequences(train_df['message'])\n",
        "test_sequences = tokenizer.texts_to_sequences(test_df['message'])\n",
        "\n",
        "train_padded = keras.preprocessing.sequence.pad_sequences(train_sequences, maxlen=max_length, padding='post', truncating='post')\n",
        "test_padded = keras.preprocessing.sequence.pad_sequences(test_sequences, maxlen=max_length, padding='post', truncating='post')\n"
      ],
      "metadata": {
        "id": "Z68xHghfRZjv"
      },
      "execution_count": 5,
      "outputs": []
    },
    {
      "cell_type": "code",
      "source": [
        "# Build the model\n",
        "model = keras.Sequential([\n",
        "    keras.layers.Embedding(max_words, 16, input_length=max_length),\n",
        "    keras.layers.GlobalAveragePooling1D(),\n",
        "    keras.layers.Dense(16, activation='relu'),\n",
        "    keras.layers.Dense(1, activation='sigmoid')\n",
        "])\n",
        "\n",
        "model.compile(optimizer='adam', loss='binary_crossentropy', metrics=['accuracy'])\n"
      ],
      "metadata": {
        "id": "llnct6tPRe8g",
        "outputId": "79cf67e4-f631-4c71-a75f-866993f31138",
        "colab": {
          "base_uri": "https://localhost:8080/"
        }
      },
      "execution_count": 6,
      "outputs": [
        {
          "output_type": "stream",
          "name": "stderr",
          "text": [
            "/usr/local/lib/python3.11/dist-packages/keras/src/layers/core/embedding.py:90: UserWarning: Argument `input_length` is deprecated. Just remove it.\n",
            "  warnings.warn(\n"
          ]
        }
      ]
    },
    {
      "cell_type": "code",
      "source": [
        "# Train the model\n",
        "model.fit(train_padded, train_df['label'], epochs=100, validation_data=(test_padded, test_df['label']), verbose=2)"
      ],
      "metadata": {
        "id": "9fV9zaOMRl6_",
        "outputId": "de9bcae1-8f9e-47d0-8c37-7ff0bf716c00",
        "colab": {
          "base_uri": "https://localhost:8080/"
        }
      },
      "execution_count": 7,
      "outputs": [
        {
          "output_type": "stream",
          "name": "stdout",
          "text": [
            "Epoch 1/100\n",
            "131/131 - 4s - 27ms/step - accuracy: 0.8622 - loss: 0.4180 - val_accuracy: 0.8657 - val_loss: 0.3676\n",
            "Epoch 2/100\n",
            "131/131 - 2s - 16ms/step - accuracy: 0.8660 - loss: 0.3641 - val_accuracy: 0.8657 - val_loss: 0.3622\n",
            "Epoch 3/100\n",
            "131/131 - 2s - 13ms/step - accuracy: 0.8660 - loss: 0.3575 - val_accuracy: 0.8657 - val_loss: 0.3536\n",
            "Epoch 4/100\n",
            "131/131 - 3s - 21ms/step - accuracy: 0.8660 - loss: 0.3447 - val_accuracy: 0.8657 - val_loss: 0.3336\n",
            "Epoch 5/100\n",
            "131/131 - 1s - 11ms/step - accuracy: 0.8662 - loss: 0.2991 - val_accuracy: 0.8657 - val_loss: 0.2621\n",
            "Epoch 6/100\n",
            "131/131 - 1s - 6ms/step - accuracy: 0.9048 - loss: 0.2099 - val_accuracy: 0.9102 - val_loss: 0.1832\n",
            "Epoch 7/100\n",
            "131/131 - 1s - 6ms/step - accuracy: 0.9605 - loss: 0.1368 - val_accuracy: 0.9605 - val_loss: 0.1225\n",
            "Epoch 8/100\n",
            "131/131 - 1s - 9ms/step - accuracy: 0.9746 - loss: 0.0905 - val_accuracy: 0.9770 - val_loss: 0.0963\n",
            "Epoch 9/100\n",
            "131/131 - 1s - 10ms/step - accuracy: 0.9811 - loss: 0.0694 - val_accuracy: 0.9777 - val_loss: 0.0820\n",
            "Epoch 10/100\n",
            "131/131 - 1s - 9ms/step - accuracy: 0.9852 - loss: 0.0571 - val_accuracy: 0.9698 - val_loss: 0.0874\n",
            "Epoch 11/100\n",
            "131/131 - 1s - 11ms/step - accuracy: 0.9873 - loss: 0.0496 - val_accuracy: 0.9734 - val_loss: 0.0813\n",
            "Epoch 12/100\n",
            "131/131 - 1s - 6ms/step - accuracy: 0.9873 - loss: 0.0456 - val_accuracy: 0.9784 - val_loss: 0.0679\n",
            "Epoch 13/100\n",
            "131/131 - 1s - 5ms/step - accuracy: 0.9895 - loss: 0.0413 - val_accuracy: 0.9784 - val_loss: 0.0609\n",
            "Epoch 14/100\n",
            "131/131 - 1s - 10ms/step - accuracy: 0.9895 - loss: 0.0369 - val_accuracy: 0.9792 - val_loss: 0.0598\n",
            "Epoch 15/100\n",
            "131/131 - 2s - 13ms/step - accuracy: 0.9899 - loss: 0.0329 - val_accuracy: 0.9799 - val_loss: 0.0559\n",
            "Epoch 16/100\n",
            "131/131 - 2s - 13ms/step - accuracy: 0.9899 - loss: 0.0338 - val_accuracy: 0.9792 - val_loss: 0.0572\n",
            "Epoch 17/100\n",
            "131/131 - 1s - 9ms/step - accuracy: 0.9916 - loss: 0.0291 - val_accuracy: 0.9784 - val_loss: 0.0627\n",
            "Epoch 18/100\n",
            "131/131 - 1s - 9ms/step - accuracy: 0.9933 - loss: 0.0261 - val_accuracy: 0.9799 - val_loss: 0.0514\n",
            "Epoch 19/100\n",
            "131/131 - 1s - 5ms/step - accuracy: 0.9928 - loss: 0.0243 - val_accuracy: 0.9828 - val_loss: 0.0501\n",
            "Epoch 20/100\n",
            "131/131 - 1s - 5ms/step - accuracy: 0.9935 - loss: 0.0234 - val_accuracy: 0.9828 - val_loss: 0.0491\n",
            "Epoch 21/100\n",
            "131/131 - 1s - 5ms/step - accuracy: 0.9943 - loss: 0.0209 - val_accuracy: 0.9856 - val_loss: 0.0550\n",
            "Epoch 22/100\n",
            "131/131 - 1s - 10ms/step - accuracy: 0.9940 - loss: 0.0205 - val_accuracy: 0.9842 - val_loss: 0.0478\n",
            "Epoch 23/100\n",
            "131/131 - 1s - 9ms/step - accuracy: 0.9945 - loss: 0.0198 - val_accuracy: 0.9828 - val_loss: 0.0468\n",
            "Epoch 24/100\n",
            "131/131 - 1s - 10ms/step - accuracy: 0.9943 - loss: 0.0190 - val_accuracy: 0.9842 - val_loss: 0.0466\n",
            "Epoch 25/100\n",
            "131/131 - 2s - 15ms/step - accuracy: 0.9952 - loss: 0.0159 - val_accuracy: 0.9835 - val_loss: 0.0480\n",
            "Epoch 26/100\n",
            "131/131 - 1s - 8ms/step - accuracy: 0.9955 - loss: 0.0153 - val_accuracy: 0.9864 - val_loss: 0.0453\n",
            "Epoch 27/100\n",
            "131/131 - 2s - 14ms/step - accuracy: 0.9952 - loss: 0.0152 - val_accuracy: 0.9864 - val_loss: 0.0449\n",
            "Epoch 28/100\n",
            "131/131 - 3s - 20ms/step - accuracy: 0.9955 - loss: 0.0146 - val_accuracy: 0.9849 - val_loss: 0.0438\n",
            "Epoch 29/100\n",
            "131/131 - 1s - 9ms/step - accuracy: 0.9964 - loss: 0.0128 - val_accuracy: 0.9849 - val_loss: 0.0435\n",
            "Epoch 30/100\n",
            "131/131 - 1s - 6ms/step - accuracy: 0.9966 - loss: 0.0125 - val_accuracy: 0.9842 - val_loss: 0.0465\n",
            "Epoch 31/100\n",
            "131/131 - 1s - 10ms/step - accuracy: 0.9964 - loss: 0.0115 - val_accuracy: 0.9842 - val_loss: 0.0509\n",
            "Epoch 32/100\n",
            "131/131 - 1s - 9ms/step - accuracy: 0.9969 - loss: 0.0118 - val_accuracy: 0.9842 - val_loss: 0.0470\n",
            "Epoch 33/100\n",
            "131/131 - 2s - 14ms/step - accuracy: 0.9976 - loss: 0.0101 - val_accuracy: 0.9856 - val_loss: 0.0425\n",
            "Epoch 34/100\n",
            "131/131 - 2s - 15ms/step - accuracy: 0.9971 - loss: 0.0100 - val_accuracy: 0.9864 - val_loss: 0.0441\n",
            "Epoch 35/100\n",
            "131/131 - 1s - 10ms/step - accuracy: 0.9974 - loss: 0.0094 - val_accuracy: 0.9864 - val_loss: 0.0447\n",
            "Epoch 36/100\n",
            "131/131 - 1s - 9ms/step - accuracy: 0.9976 - loss: 0.0097 - val_accuracy: 0.9864 - val_loss: 0.0443\n",
            "Epoch 37/100\n",
            "131/131 - 1s - 5ms/step - accuracy: 0.9971 - loss: 0.0096 - val_accuracy: 0.9849 - val_loss: 0.0422\n",
            "Epoch 38/100\n",
            "131/131 - 1s - 10ms/step - accuracy: 0.9981 - loss: 0.0074 - val_accuracy: 0.9849 - val_loss: 0.0431\n",
            "Epoch 39/100\n",
            "131/131 - 1s - 10ms/step - accuracy: 0.9978 - loss: 0.0075 - val_accuracy: 0.9856 - val_loss: 0.0560\n",
            "Epoch 40/100\n",
            "131/131 - 1s - 6ms/step - accuracy: 0.9981 - loss: 0.0071 - val_accuracy: 0.9856 - val_loss: 0.0490\n",
            "Epoch 41/100\n",
            "131/131 - 1s - 9ms/step - accuracy: 0.9986 - loss: 0.0068 - val_accuracy: 0.9864 - val_loss: 0.0472\n",
            "Epoch 42/100\n",
            "131/131 - 1s - 10ms/step - accuracy: 0.9988 - loss: 0.0063 - val_accuracy: 0.9856 - val_loss: 0.0550\n",
            "Epoch 43/100\n",
            "131/131 - 1s - 10ms/step - accuracy: 0.9988 - loss: 0.0066 - val_accuracy: 0.9864 - val_loss: 0.0419\n",
            "Epoch 44/100\n",
            "131/131 - 2s - 15ms/step - accuracy: 0.9981 - loss: 0.0058 - val_accuracy: 0.9878 - val_loss: 0.0418\n",
            "Epoch 45/100\n",
            "131/131 - 1s - 5ms/step - accuracy: 0.9983 - loss: 0.0057 - val_accuracy: 0.9871 - val_loss: 0.0481\n",
            "Epoch 46/100\n",
            "131/131 - 1s - 10ms/step - accuracy: 0.9990 - loss: 0.0059 - val_accuracy: 0.9856 - val_loss: 0.0414\n",
            "Epoch 47/100\n",
            "131/131 - 1s - 5ms/step - accuracy: 0.9988 - loss: 0.0053 - val_accuracy: 0.9878 - val_loss: 0.0457\n",
            "Epoch 48/100\n",
            "131/131 - 1s - 6ms/step - accuracy: 0.9988 - loss: 0.0053 - val_accuracy: 0.9864 - val_loss: 0.0416\n",
            "Epoch 49/100\n",
            "131/131 - 1s - 10ms/step - accuracy: 0.9993 - loss: 0.0049 - val_accuracy: 0.9878 - val_loss: 0.0470\n",
            "Epoch 50/100\n",
            "131/131 - 1s - 5ms/step - accuracy: 0.9988 - loss: 0.0051 - val_accuracy: 0.9878 - val_loss: 0.0423\n",
            "Epoch 51/100\n",
            "131/131 - 1s - 5ms/step - accuracy: 0.9990 - loss: 0.0044 - val_accuracy: 0.9820 - val_loss: 0.0783\n",
            "Epoch 52/100\n",
            "131/131 - 1s - 10ms/step - accuracy: 0.9986 - loss: 0.0048 - val_accuracy: 0.9856 - val_loss: 0.0581\n",
            "Epoch 53/100\n",
            "131/131 - 1s - 10ms/step - accuracy: 0.9981 - loss: 0.0041 - val_accuracy: 0.9871 - val_loss: 0.0525\n",
            "Epoch 54/100\n",
            "131/131 - 1s - 10ms/step - accuracy: 0.9986 - loss: 0.0041 - val_accuracy: 0.9871 - val_loss: 0.0482\n",
            "Epoch 55/100\n",
            "131/131 - 1s - 10ms/step - accuracy: 0.9993 - loss: 0.0038 - val_accuracy: 0.9871 - val_loss: 0.0497\n",
            "Epoch 56/100\n",
            "131/131 - 2s - 15ms/step - accuracy: 0.9990 - loss: 0.0038 - val_accuracy: 0.9871 - val_loss: 0.0437\n",
            "Epoch 57/100\n",
            "131/131 - 1s - 6ms/step - accuracy: 0.9990 - loss: 0.0041 - val_accuracy: 0.9871 - val_loss: 0.0449\n",
            "Epoch 58/100\n",
            "131/131 - 1s - 9ms/step - accuracy: 0.9990 - loss: 0.0038 - val_accuracy: 0.9856 - val_loss: 0.0588\n",
            "Epoch 59/100\n",
            "131/131 - 1s - 6ms/step - accuracy: 0.9995 - loss: 0.0026 - val_accuracy: 0.9871 - val_loss: 0.0496\n",
            "Epoch 60/100\n",
            "131/131 - 1s - 9ms/step - accuracy: 0.9993 - loss: 0.0035 - val_accuracy: 0.9871 - val_loss: 0.0500\n",
            "Epoch 61/100\n",
            "131/131 - 1s - 6ms/step - accuracy: 0.9995 - loss: 0.0036 - val_accuracy: 0.9871 - val_loss: 0.0434\n",
            "Epoch 62/100\n",
            "131/131 - 1s - 9ms/step - accuracy: 0.9990 - loss: 0.0033 - val_accuracy: 0.9878 - val_loss: 0.0474\n",
            "Epoch 63/100\n",
            "131/131 - 1s - 6ms/step - accuracy: 0.9993 - loss: 0.0032 - val_accuracy: 0.9871 - val_loss: 0.0552\n",
            "Epoch 64/100\n",
            "131/131 - 1s - 9ms/step - accuracy: 0.9995 - loss: 0.0020 - val_accuracy: 0.9878 - val_loss: 0.0484\n",
            "Epoch 65/100\n",
            "131/131 - 2s - 13ms/step - accuracy: 0.9990 - loss: 0.0035 - val_accuracy: 0.9871 - val_loss: 0.0512\n",
            "Epoch 66/100\n",
            "131/131 - 2s - 13ms/step - accuracy: 0.9990 - loss: 0.0033 - val_accuracy: 0.9871 - val_loss: 0.0428\n",
            "Epoch 67/100\n",
            "131/131 - 1s - 10ms/step - accuracy: 0.9993 - loss: 0.0023 - val_accuracy: 0.9878 - val_loss: 0.0484\n",
            "Epoch 68/100\n",
            "131/131 - 1s - 9ms/step - accuracy: 0.9990 - loss: 0.0026 - val_accuracy: 0.9871 - val_loss: 0.0521\n",
            "Epoch 69/100\n",
            "131/131 - 1s - 10ms/step - accuracy: 0.9998 - loss: 0.0024 - val_accuracy: 0.9871 - val_loss: 0.0575\n",
            "Epoch 70/100\n",
            "131/131 - 1s - 10ms/step - accuracy: 0.9990 - loss: 0.0034 - val_accuracy: 0.9820 - val_loss: 0.0880\n",
            "Epoch 71/100\n",
            "131/131 - 1s - 9ms/step - accuracy: 0.9988 - loss: 0.0031 - val_accuracy: 0.9878 - val_loss: 0.0462\n",
            "Epoch 72/100\n",
            "131/131 - 1s - 9ms/step - accuracy: 0.9998 - loss: 0.0018 - val_accuracy: 0.9799 - val_loss: 0.0766\n",
            "Epoch 73/100\n",
            "131/131 - 1s - 6ms/step - accuracy: 0.9998 - loss: 0.0018 - val_accuracy: 0.9871 - val_loss: 0.0602\n",
            "Epoch 74/100\n",
            "131/131 - 1s - 6ms/step - accuracy: 0.9995 - loss: 0.0022 - val_accuracy: 0.9864 - val_loss: 0.0648\n",
            "Epoch 75/100\n",
            "131/131 - 1s - 11ms/step - accuracy: 0.9995 - loss: 0.0021 - val_accuracy: 0.9871 - val_loss: 0.0544\n",
            "Epoch 76/100\n",
            "131/131 - 1s - 10ms/step - accuracy: 0.9998 - loss: 0.0020 - val_accuracy: 0.9871 - val_loss: 0.0588\n",
            "Epoch 77/100\n",
            "131/131 - 2s - 15ms/step - accuracy: 0.9995 - loss: 0.0023 - val_accuracy: 0.9842 - val_loss: 0.0859\n",
            "Epoch 78/100\n",
            "131/131 - 2s - 12ms/step - accuracy: 0.9990 - loss: 0.0031 - val_accuracy: 0.9871 - val_loss: 0.0566\n",
            "Epoch 79/100\n",
            "131/131 - 1s - 9ms/step - accuracy: 0.9998 - loss: 0.0017 - val_accuracy: 0.9864 - val_loss: 0.0686\n",
            "Epoch 80/100\n",
            "131/131 - 1s - 9ms/step - accuracy: 0.9981 - loss: 0.0040 - val_accuracy: 0.9856 - val_loss: 0.0759\n",
            "Epoch 81/100\n",
            "131/131 - 1s - 10ms/step - accuracy: 0.9998 - loss: 0.0017 - val_accuracy: 0.9856 - val_loss: 0.0659\n",
            "Epoch 82/100\n",
            "131/131 - 1s - 10ms/step - accuracy: 0.9998 - loss: 0.0017 - val_accuracy: 0.9871 - val_loss: 0.0525\n",
            "Epoch 83/100\n",
            "131/131 - 1s - 7ms/step - accuracy: 0.9998 - loss: 0.0018 - val_accuracy: 0.9871 - val_loss: 0.0562\n",
            "Epoch 84/100\n",
            "131/131 - 2s - 13ms/step - accuracy: 0.9998 - loss: 0.0018 - val_accuracy: 0.9871 - val_loss: 0.0580\n",
            "Epoch 85/100\n",
            "131/131 - 2s - 14ms/step - accuracy: 0.9998 - loss: 0.0018 - val_accuracy: 0.9871 - val_loss: 0.0609\n",
            "Epoch 86/100\n",
            "131/131 - 1s - 5ms/step - accuracy: 0.9995 - loss: 0.0023 - val_accuracy: 0.9871 - val_loss: 0.0525\n",
            "Epoch 87/100\n",
            "131/131 - 1s - 6ms/step - accuracy: 0.9986 - loss: 0.0050 - val_accuracy: 0.9856 - val_loss: 0.0764\n",
            "Epoch 88/100\n",
            "131/131 - 1s - 6ms/step - accuracy: 0.9998 - loss: 0.0018 - val_accuracy: 0.9885 - val_loss: 0.0492\n",
            "Epoch 89/100\n",
            "131/131 - 1s - 6ms/step - accuracy: 0.9995 - loss: 0.0014 - val_accuracy: 0.9878 - val_loss: 0.0508\n",
            "Epoch 90/100\n",
            "131/131 - 1s - 10ms/step - accuracy: 0.9998 - loss: 0.0018 - val_accuracy: 0.9864 - val_loss: 0.0674\n",
            "Epoch 91/100\n",
            "131/131 - 1s - 10ms/step - accuracy: 0.9990 - loss: 0.0025 - val_accuracy: 0.9864 - val_loss: 0.0675\n",
            "Epoch 92/100\n",
            "131/131 - 1s - 6ms/step - accuracy: 0.9998 - loss: 0.0018 - val_accuracy: 0.9878 - val_loss: 0.0514\n",
            "Epoch 93/100\n",
            "131/131 - 1s - 9ms/step - accuracy: 0.9995 - loss: 0.0017 - val_accuracy: 0.9885 - val_loss: 0.0477\n",
            "Epoch 94/100\n",
            "131/131 - 1s - 9ms/step - accuracy: 0.9998 - loss: 0.0017 - val_accuracy: 0.9770 - val_loss: 0.1355\n",
            "Epoch 95/100\n",
            "131/131 - 2s - 15ms/step - accuracy: 0.9995 - loss: 0.0018 - val_accuracy: 0.9871 - val_loss: 0.0578\n",
            "Epoch 96/100\n",
            "131/131 - 1s - 8ms/step - accuracy: 0.9995 - loss: 0.0014 - val_accuracy: 0.9892 - val_loss: 0.0445\n",
            "Epoch 97/100\n",
            "131/131 - 1s - 8ms/step - accuracy: 0.9998 - loss: 0.0012 - val_accuracy: 0.9871 - val_loss: 0.0649\n",
            "Epoch 98/100\n",
            "131/131 - 1s - 10ms/step - accuracy: 0.9998 - loss: 0.0016 - val_accuracy: 0.9871 - val_loss: 0.0616\n",
            "Epoch 99/100\n",
            "131/131 - 1s - 10ms/step - accuracy: 0.9998 - loss: 0.0018 - val_accuracy: 0.9892 - val_loss: 0.0472\n",
            "Epoch 100/100\n",
            "131/131 - 1s - 6ms/step - accuracy: 0.9995 - loss: 0.0014 - val_accuracy: 0.9878 - val_loss: 0.0561\n"
          ]
        },
        {
          "output_type": "execute_result",
          "data": {
            "text/plain": [
              "<keras.src.callbacks.history.History at 0x7bfebafb2490>"
            ]
          },
          "metadata": {},
          "execution_count": 7
        }
      ]
    },
    {
      "cell_type": "code",
      "execution_count": 10,
      "metadata": {
        "id": "J9tD9yACG6M9",
        "outputId": "4abdca50-5aca-4650-b01e-f536223e5860",
        "colab": {
          "base_uri": "https://localhost:8080/"
        }
      },
      "outputs": [
        {
          "output_type": "stream",
          "name": "stdout",
          "text": [
            "\u001b[1m1/1\u001b[0m \u001b[32m━━━━━━━━━━━━━━━━━━━━\u001b[0m\u001b[37m\u001b[0m \u001b[1m0s\u001b[0m 41ms/step\n",
            "[3.474156619631685e-05, 'ham']\n"
          ]
        }
      ],
      "source": [
        "# function to predict messages based on model\n",
        "# (should return list containing prediction and label, ex. [0.008318834938108921, 'ham'])\n",
        "def predict_message(pred_text):\n",
        "    seq = tokenizer.texts_to_sequences([pred_text])\n",
        "    padded = keras.preprocessing.sequence.pad_sequences(seq, maxlen=max_length, padding='post', truncating='post')\n",
        "    prediction = model.predict(padded)[0][0]\n",
        "    label = \"spam\" if prediction > 0.5 else \"ham\"\n",
        "    return [float(prediction), label]\n",
        "\n",
        "pred_text = \"how are you doing today?\"\n",
        "prediction = predict_message(pred_text)\n",
        "print(prediction)"
      ]
    },
    {
      "cell_type": "code",
      "execution_count": 12,
      "metadata": {
        "id": "Dxotov85SjsC",
        "outputId": "0918618f-3647-4f86-bb77-d9d771b30a3f",
        "colab": {
          "base_uri": "https://localhost:8080/"
        }
      },
      "outputs": [
        {
          "output_type": "stream",
          "name": "stdout",
          "text": [
            "\u001b[1m1/1\u001b[0m \u001b[32m━━━━━━━━━━━━━━━━━━━━\u001b[0m\u001b[37m\u001b[0m \u001b[1m0s\u001b[0m 41ms/step\n",
            "\u001b[1m1/1\u001b[0m \u001b[32m━━━━━━━━━━━━━━━━━━━━\u001b[0m\u001b[37m\u001b[0m \u001b[1m0s\u001b[0m 38ms/step\n",
            "\u001b[1m1/1\u001b[0m \u001b[32m━━━━━━━━━━━━━━━━━━━━\u001b[0m\u001b[37m\u001b[0m \u001b[1m0s\u001b[0m 44ms/step\n",
            "\u001b[1m1/1\u001b[0m \u001b[32m━━━━━━━━━━━━━━━━━━━━\u001b[0m\u001b[37m\u001b[0m \u001b[1m0s\u001b[0m 39ms/step\n",
            "\u001b[1m1/1\u001b[0m \u001b[32m━━━━━━━━━━━━━━━━━━━━\u001b[0m\u001b[37m\u001b[0m \u001b[1m0s\u001b[0m 38ms/step\n",
            "\u001b[1m1/1\u001b[0m \u001b[32m━━━━━━━━━━━━━━━━━━━━\u001b[0m\u001b[37m\u001b[0m \u001b[1m0s\u001b[0m 38ms/step\n",
            "\u001b[1m1/1\u001b[0m \u001b[32m━━━━━━━━━━━━━━━━━━━━\u001b[0m\u001b[37m\u001b[0m \u001b[1m0s\u001b[0m 36ms/step\n",
            "You passed the challenge. Great job!\n"
          ]
        }
      ],
      "source": [
        "# Run this cell to test your function and model. Do not modify contents.\n",
        "def test_predictions():\n",
        "  test_messages = [\"how are you doing today\",\n",
        "                   \"sale today! to stop texts call 98912460324\",\n",
        "                   \"i dont want to go. can we try it a different day? available sat\",\n",
        "                   \"our new mobile video service is live. just install on your phone to start watching.\",\n",
        "                   \"you have won £1000 cash! call to claim your prize.\",\n",
        "                   \"i'll bring it tomorrow. don't forget the milk.\",\n",
        "                   \"wow, is your arm alright. that happened to me one time too\"\n",
        "                  ]\n",
        "\n",
        "  test_answers = [\"ham\", \"spam\", \"ham\", \"spam\", \"spam\", \"ham\", \"ham\"]\n",
        "  passed = True\n",
        "\n",
        "  for msg, ans in zip(test_messages, test_answers):\n",
        "    prediction = predict_message(msg)\n",
        "    if prediction[1] != ans:\n",
        "      passed = False\n",
        "\n",
        "  if passed:\n",
        "    print(\"You passed the challenge. Great job!\")\n",
        "  else:\n",
        "    print(\"You haven't passed yet. Keep trying.\")\n",
        "\n",
        "test_predictions()\n"
      ]
    }
  ],
  "metadata": {
    "colab": {
      "provenance": [],
      "toc_visible": true,
      "include_colab_link": true
    },
    "kernelspec": {
      "display_name": "Python 3",
      "name": "python3"
    }
  },
  "nbformat": 4,
  "nbformat_minor": 0
}